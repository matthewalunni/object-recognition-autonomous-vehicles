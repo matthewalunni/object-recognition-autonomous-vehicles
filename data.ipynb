{
 "cells": [
  {
   "cell_type": "markdown",
   "metadata": {},
   "source": [
    "The following script will iterate through all of the data and process it into a single dataframe."
   ]
  },
  {
   "cell_type": "markdown",
   "metadata": {},
   "source": [
    "The following are imports that will be used to process the data."
   ]
  },
  {
   "cell_type": "code",
   "execution_count": 63,
   "metadata": {},
   "outputs": [],
   "source": [
    "import json\n",
    "import pandas as pd\n",
    "from attr import asdict"
   ]
  },
  {
   "cell_type": "markdown",
   "metadata": {},
   "source": [
    "The following class declaration will be used to process the data. The class will be used to create an array of Cuboid objects. The cadcd_mappings dictionary will be used to dictate the location of the data in the dataframe."
   ]
  },
  {
   "cell_type": "code",
   "execution_count": 55,
   "metadata": {},
   "outputs": [],
   "source": [
    "class Cuboid:\n",
    "    def __init__(self, position, dimensions, yaw, stationary, uuid, label, camera_used, attributes, points_count) -> None:\n",
    "        self.attributes = attributes\n",
    "        self.position = position\n",
    "        self.dimensions = dimensions\n",
    "        self.yaw = yaw\n",
    "        self.stationary = stationary\n",
    "        self.uuid = uuid\n",
    "        self.label = label\n",
    "        self.camera_used = camera_used\n",
    "        self.points_count = points_count\n",
    "        pass\n",
    "\n",
    "    def to_dict(self):\n",
    "        return {\n",
    "            \"attributes\": self.attributes,\n",
    "            \"position\": self.position,\n",
    "            \"dimensions\": self.dimensions,\n",
    "            \"yaw\": self.yaw,\n",
    "            \"stationary\": self.stationary,\n",
    "            \"uuid\": self.uuid,\n",
    "            \"label\": self.label,\n",
    "            \"camera_used\": self.camera_used,\n",
    "            \"points_count\": self.points_count\n",
    "        }\n",
    "        \n",
    "\n",
    "cadcd_mappings = {\n",
    "    '2018_03_06': [\n",
    "        '0001', '0002', '0005', '0006', '0008', '0009', '0010',\n",
    "        '0012', '0013', '0015', '0016', '0018'\n",
    "    ],\n",
    "    '2018_03_07': [\n",
    "        '0001', '0002', '0004', '0005', '0006', '0007'\n",
    "    ],\n",
    "    '2019_02_27': [\n",
    "        '0002', '0003', '0004', '0005', '0006', '0008', '0009', '0010',\n",
    "        '0011', '0013', '0015', '0016', '0018', '0019', '0020',\n",
    "        '0022', '0024', '0025', '0027', '0028', '0030',\n",
    "        '0031', '0033', '0034', '0035', '0037', '0039', '0040',\n",
    "        '0041', '0043', '0044', '0045', '0046', '0047', '0049', '0050',\n",
    "        '0051', '0054', '0055', '0056', '0058', '0059',\n",
    "        '0060', '0061', '0063', '0065', '0066', '0068', '0070',\n",
    "        '0072', '0073', '0075', '0076', '0078', '0079',\n",
    "        '0080', '0082'\n",
    "    ]\n",
    "}"
   ]
  },
  {
   "cell_type": "code",
   "execution_count": 62,
   "metadata": {},
   "outputs": [],
   "source": [
    "data = []\n",
    "for date in cadcd_mappings:\n",
    "    for folder in cadcd_mappings[date]:\n",
    "        file_name = 'data_labels/' + date + '/' + folder + '/3d_ann.json'\n",
    "        with open(file_name) as f:\n",
    "            file = json.load(f)\n",
    "            for obj in file:\n",
    "                for cuboid in obj['cuboids']:\n",
    "                    cuboid_data = Cuboid(\n",
    "                        position=cuboid['position'],\n",
    "                        dimensions=cuboid['dimensions'],\n",
    "                        yaw=cuboid['yaw'],\n",
    "                        stationary=cuboid['stationary'],\n",
    "                        uuid=cuboid['uuid'],\n",
    "                        label=cuboid['label'],\n",
    "                        camera_used=cuboid['camera_used'],\n",
    "                        attributes=cuboid['attributes'],\n",
    "                        points_count=cuboid['points_count']\n",
    "                    )\n",
    "                    data.append(cuboid_data.to_dict())\n",
    "\n",
    "df = pd.DataFrame(data)"
   ]
  },
  {
   "cell_type": "markdown",
   "metadata": {},
   "source": [
    "The next selection will convert the data array to a dataframe."
   ]
  },
  {
   "cell_type": "code",
   "execution_count": 64,
   "metadata": {},
   "outputs": [
    {
     "name": "stdout",
     "output_type": "stream",
     "text": [
      "                                        attributes  \\\n",
      "0  {'state': 'Moving', 'truck_type': 'Semi_Truck'}   \n",
      "1                              {'state': 'Parked'}   \n",
      "2                              {'state': 'Parked'}   \n",
      "3                              {'state': 'Parked'}   \n",
      "4                              {'state': 'Parked'}   \n",
      "\n",
      "                                            position  \\\n",
      "0  {'x': -19.10966344067156, 'y': -0.999419663041...   \n",
      "1  {'x': -9.376033925950999, 'y': 32.674561948543...   \n",
      "2  {'x': -17.99813181674196, 'y': 32.520451432452...   \n",
      "3  {'x': -20.74955000411461, 'y': 31.849314886451...   \n",
      "4  {'x': -23.84984491618181, 'y': 31.495139580804...   \n",
      "\n",
      "                             dimensions       yaw  stationary  \\\n",
      "0  {'x': 2.609, 'y': 21.222, 'z': 4.31}  0.247595       False   \n",
      "1  {'x': 1.648, 'y': 4.352, 'z': 1.451} -1.554317        True   \n",
      "2  {'x': 1.805, 'y': 4.589, 'z': 1.879}  1.622184        True   \n",
      "3  {'x': 1.879, 'y': 4.589, 'z': 1.783} -1.449587        True   \n",
      "4  {'x': 1.957, 'y': 4.589, 'z': 1.951} -1.449587        True   \n",
      "\n",
      "                                   uuid  label  camera_used  points_count  \n",
      "0  10eb0d25-d5ba-446b-a6fc-b1e1c29e0499  Truck          7.0          2395  \n",
      "1  727b36b3-da90-4b15-8ffb-42372dd77803    Car          NaN           112  \n",
      "2  92a3edd0-b6e3-4c67-bcc2-62e8b386aec9    Car          0.0            70  \n",
      "3  eb9cc3a3-9a6f-4fea-a2c6-4bc978ac464a    Car          NaN           108  \n",
      "4  231ca860-7993-429f-8c1a-5af06a32f329    Car          NaN            79  \n"
     ]
    }
   ],
   "source": [
    "print(df.head())"
   ]
  },
  {
   "cell_type": "markdown",
   "metadata": {},
   "source": [
    "The following block of code will import libraries to process the data."
   ]
  },
  {
   "cell_type": "code",
   "execution_count": 58,
   "metadata": {},
   "outputs": [],
   "source": [
    "from matplotlib import pyplot as plt\n",
    "import numpy as np"
   ]
  },
  {
   "cell_type": "markdown",
   "metadata": {},
   "source": [
    "The following code block will plot the vehicle type distribution."
   ]
  },
  {
   "cell_type": "code",
   "execution_count": 59,
   "metadata": {},
   "outputs": [
    {
     "ename": "AttributeError",
     "evalue": "'dict' object has no attribute 'label'",
     "output_type": "error",
     "traceback": [
      "\u001b[0;31m---------------------------------------------------------------------------\u001b[0m",
      "\u001b[0;31mAttributeError\u001b[0m                            Traceback (most recent call last)",
      "\u001b[1;32m/Users/matthewalunni/Documents/School/SEP788/Project/object-recognition-autonomous-vehicles/data.ipynb Cell 12\u001b[0m in \u001b[0;36m<cell line: 5>\u001b[0;34m()\u001b[0m\n\u001b[1;32m      <a href='vscode-notebook-cell:/Users/matthewalunni/Documents/School/SEP788/Project/object-recognition-autonomous-vehicles/data.ipynb#ch0000009?line=2'>3</a>\u001b[0m plt\u001b[39m.\u001b[39mtitle(\u001b[39m'\u001b[39m\u001b[39mVehicle Frequency\u001b[39m\u001b[39m'\u001b[39m)\n\u001b[1;32m      <a href='vscode-notebook-cell:/Users/matthewalunni/Documents/School/SEP788/Project/object-recognition-autonomous-vehicles/data.ipynb#ch0000009?line=3'>4</a>\u001b[0m \u001b[39m# create a histogram showing the distribution of vehicles\u001b[39;00m\n\u001b[0;32m----> <a href='vscode-notebook-cell:/Users/matthewalunni/Documents/School/SEP788/Project/object-recognition-autonomous-vehicles/data.ipynb#ch0000009?line=4'>5</a>\u001b[0m plt\u001b[39m.\u001b[39mhist([cuboid\u001b[39m.\u001b[39mlabel \u001b[39mfor\u001b[39;00m cuboid \u001b[39min\u001b[39;00m data], bins\u001b[39m=\u001b[39mnp\u001b[39m.\u001b[39marange(\u001b[39m0\u001b[39m, \u001b[39m10\u001b[39m, \u001b[39m1\u001b[39m))\n",
      "\u001b[1;32m/Users/matthewalunni/Documents/School/SEP788/Project/object-recognition-autonomous-vehicles/data.ipynb Cell 12\u001b[0m in \u001b[0;36m<listcomp>\u001b[0;34m(.0)\u001b[0m\n\u001b[1;32m      <a href='vscode-notebook-cell:/Users/matthewalunni/Documents/School/SEP788/Project/object-recognition-autonomous-vehicles/data.ipynb#ch0000009?line=2'>3</a>\u001b[0m plt\u001b[39m.\u001b[39mtitle(\u001b[39m'\u001b[39m\u001b[39mVehicle Frequency\u001b[39m\u001b[39m'\u001b[39m)\n\u001b[1;32m      <a href='vscode-notebook-cell:/Users/matthewalunni/Documents/School/SEP788/Project/object-recognition-autonomous-vehicles/data.ipynb#ch0000009?line=3'>4</a>\u001b[0m \u001b[39m# create a histogram showing the distribution of vehicles\u001b[39;00m\n\u001b[0;32m----> <a href='vscode-notebook-cell:/Users/matthewalunni/Documents/School/SEP788/Project/object-recognition-autonomous-vehicles/data.ipynb#ch0000009?line=4'>5</a>\u001b[0m plt\u001b[39m.\u001b[39mhist([cuboid\u001b[39m.\u001b[39;49mlabel \u001b[39mfor\u001b[39;00m cuboid \u001b[39min\u001b[39;00m data], bins\u001b[39m=\u001b[39mnp\u001b[39m.\u001b[39marange(\u001b[39m0\u001b[39m, \u001b[39m10\u001b[39m, \u001b[39m1\u001b[39m))\n",
      "\u001b[0;31mAttributeError\u001b[0m: 'dict' object has no attribute 'label'"
     ]
    },
    {
     "data": {
      "image/png": "[encoded data removed]",
      "text/plain": [
       "<Figure size 432x288 with 1 Axes>"
      ]
     },
     "metadata": {
      "needs_background": "light"
     },
     "output_type": "display_data"
    }
   ],
   "source": [
    "plt.xlabel('Vehicle')\n",
    "plt.ylabel('Frequency')\n",
    "plt.title('Vehicle Frequency')\n",
    "# create a histogram showing the distribution of vehicles\n",
    "plt.hist([cuboid.label for cuboid in data], bins=np.arange(0, 10, 1))"
   ]
  }
 ],
 "metadata": {
  "kernelspec": {
   "display_name": "object-recognition-autonomous-vehicles",
   "language": "python",
   "name": "object-recognition-autonomous-vehicles"
  },
  "language_info": {
   "codemirror_mode": {
    "name": "ipython",
    "version": 3
   },
   "file_extension": ".py",
   "mimetype": "text/x-python",
   "name": "python",
   "nbconvert_exporter": "python",
   "pygments_lexer": "ipython3",
   "version": "3.8.2"
  },
  "orig_nbformat": 4
 },
 "nbformat": 4,
 "nbformat_minor": 2
}
